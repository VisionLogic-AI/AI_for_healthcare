{
  "nbformat": 4,
  "nbformat_minor": 0,
  "metadata": {
    "colab": {
      "name": "rad_ai.ipynb",
      "provenance": [],
      "authorship_tag": "ABX9TyMw3rhm+QlzsMll/J6Jz44A",
      "include_colab_link": true
    },
    "kernelspec": {
      "name": "python3",
      "display_name": "Python 3"
    },
    "accelerator": "GPU"
  },
  "cells": [
    {
      "cell_type": "markdown",
      "metadata": {
        "id": "view-in-github",
        "colab_type": "text"
      },
      "source": [
        "<a href=\"https://colab.research.google.com/github/VisionLogic-AI/AI_for_healthcare/blob/master/rad_ai.ipynb\" target=\"_parent\"><img src=\"https://colab.research.google.com/assets/colab-badge.svg\" alt=\"Open In Colab\"/></a>"
      ]
    },
    {
      "cell_type": "code",
      "metadata": {
        "id": "cm1nicsAmT5Z",
        "colab_type": "code",
        "colab": {
          "base_uri": "https://localhost:8080/",
          "height": 102
        },
        "outputId": "7ea6836e-b8b8-44e9-89f5-445a7438ee1b"
      },
      "source": [
        "!git clone https://github.com/thtang/CheXNet-with-localization"
      ],
      "execution_count": 1,
      "outputs": [
        {
          "output_type": "stream",
          "text": [
            "Cloning into 'CheXNet-with-localization'...\n",
            "remote: Enumerating objects: 290, done.\u001b[K\n",
            "remote: Total 290 (delta 0), reused 0 (delta 0), pack-reused 290\u001b[K\n",
            "Receiving objects: 100% (290/290), 178.38 MiB | 25.52 MiB/s, done.\n",
            "Resolving deltas: 100% (161/161), done.\n"
          ],
          "name": "stdout"
        }
      ]
    }
  ]
}